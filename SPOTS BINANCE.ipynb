{
 "cells": [
  {
   "cell_type": "code",
   "execution_count": 2,
   "id": "d116e706",
   "metadata": {},
   "outputs": [],
   "source": [
    "import pandas as pd\n",
    "import requests\n",
    "import datetime"
   ]
  },
  {
   "cell_type": "code",
   "execution_count": 3,
   "id": "2712ff05",
   "metadata": {
    "scrolled": false
   },
   "outputs": [
    {
     "data": {
      "text/html": [
       "<div>\n",
       "<style scoped>\n",
       "    .dataframe tbody tr th:only-of-type {\n",
       "        vertical-align: middle;\n",
       "    }\n",
       "\n",
       "    .dataframe tbody tr th {\n",
       "        vertical-align: top;\n",
       "    }\n",
       "\n",
       "    .dataframe thead th {\n",
       "        text-align: right;\n",
       "    }\n",
       "</style>\n",
       "<table border=\"1\" class=\"dataframe\">\n",
       "  <thead>\n",
       "    <tr style=\"text-align: right;\">\n",
       "      <th></th>\n",
       "      <th>web-scraper-order</th>\n",
       "      <th>web-scraper-start-url</th>\n",
       "      <th>Pagination</th>\n",
       "      <th>Ticker</th>\n",
       "    </tr>\n",
       "  </thead>\n",
       "  <tbody>\n",
       "    <tr>\n",
       "      <th>0</th>\n",
       "      <td>1693047515-1</td>\n",
       "      <td>https://www.binance.com/fr/markets/spot_margin...</td>\n",
       "      <td>NaN</td>\n",
       "      <td>BTC</td>\n",
       "    </tr>\n",
       "    <tr>\n",
       "      <th>1</th>\n",
       "      <td>1693047515-2</td>\n",
       "      <td>https://www.binance.com/fr/markets/spot_margin...</td>\n",
       "      <td>NaN</td>\n",
       "      <td>ETH</td>\n",
       "    </tr>\n",
       "    <tr>\n",
       "      <th>2</th>\n",
       "      <td>1693047515-3</td>\n",
       "      <td>https://www.binance.com/fr/markets/spot_margin...</td>\n",
       "      <td>NaN</td>\n",
       "      <td>USDC</td>\n",
       "    </tr>\n",
       "    <tr>\n",
       "      <th>3</th>\n",
       "      <td>1693047515-4</td>\n",
       "      <td>https://www.binance.com/fr/markets/spot_margin...</td>\n",
       "      <td>NaN</td>\n",
       "      <td>XRP</td>\n",
       "    </tr>\n",
       "    <tr>\n",
       "      <th>4</th>\n",
       "      <td>1693047515-5</td>\n",
       "      <td>https://www.binance.com/fr/markets/spot_margin...</td>\n",
       "      <td>NaN</td>\n",
       "      <td>TUSD</td>\n",
       "    </tr>\n",
       "  </tbody>\n",
       "</table>\n",
       "</div>"
      ],
      "text/plain": [
       "  web-scraper-order                              web-scraper-start-url  \\\n",
       "0      1693047515-1  https://www.binance.com/fr/markets/spot_margin...   \n",
       "1      1693047515-2  https://www.binance.com/fr/markets/spot_margin...   \n",
       "2      1693047515-3  https://www.binance.com/fr/markets/spot_margin...   \n",
       "3      1693047515-4  https://www.binance.com/fr/markets/spot_margin...   \n",
       "4      1693047515-5  https://www.binance.com/fr/markets/spot_margin...   \n",
       "\n",
       "   Pagination Ticker  \n",
       "0         NaN    BTC  \n",
       "1         NaN    ETH  \n",
       "2         NaN   USDC  \n",
       "3         NaN    XRP  \n",
       "4         NaN   TUSD  "
      ]
     },
     "metadata": {},
     "output_type": "display_data"
    },
    {
     "name": "stdout",
     "output_type": "stream",
     "text": [
      "Nombre de tickers : 349\n"
     ]
    }
   ],
   "source": [
    "# lecture du fichier spot binance\n",
    "spot = pd.read_csv(r\"C:\\Users\\open_\\Downloads\\Binance_spot.csv\")\n",
    "display(spot.head())\n",
    "\n",
    "print(f\"Nombre de tickers : {spot.shape[0]}\")"
   ]
  },
  {
   "cell_type": "code",
   "execution_count": 4,
   "id": "8be78568",
   "metadata": {
    "scrolled": false
   },
   "outputs": [
    {
     "name": "stdout",
     "output_type": "stream",
     "text": [
      "LISTE TICKERS :\n",
      "['1inchusd', 'aaveusd', 'acausd', 'achusd', 'acmusd', 'adausd', 'adxusd', 'aergousd', 'agixusd', 'agldusd', 'akrousd', 'alcxusd', 'algousd', 'aliceusd', 'alpacausd', 'alphausd', 'alpineusd', 'ambusd', 'ampusd', 'ankrusd', 'antusd', 'apeusd', 'api3usd', 'aptusd', 'arusd', 'arbusd', 'ardrusd', 'arkmusd', 'arpausd', 'asrusd', 'astusd', 'astrusd', 'atausd', 'atmusd', 'atomusd', 'auctionusd', 'audiousd', 'avausd', 'avaxusd', 'axsusd', 'badgerusd', 'bakeusd', 'balusd', 'bandusd', 'barusd', 'batusd', 'bchusd', 'belusd', 'betausd', 'bethusd', 'bicousd', 'bifiusd', 'blzusd', 'bnbusd', 'bntusd', 'bnxusd', 'bondusd', 'bswusd', 'btcusd', 'btsusd', 'bttcusd', 'burgerusd', 'busdusd', 'c98usd', 'cakeusd', 'celousd', 'celrusd', 'cfxusd', 'chessusd', 'chrusd', 'chzusd', 'cityusd', 'ckbusd', 'clvusd', 'combousd', 'compusd', 'cosusd', 'cotiusd', 'crvusd', 'ctkusd', 'ctsiusd', 'ctxcusd', 'cvcusd', 'cvpusd', 'cvxusd', 'cyberusd', 'darusd', 'dashusd', 'datausd', 'dcrusd', 'degousd', 'dentusd', 'dexeusd', 'dfusd', 'dgbusd', 'diausd', 'dockusd', 'dodousd', 'dogeusd', 'dotusd', 'drepusd', 'duskusd', 'dydxusd', 'eduusd', 'egldusd', 'elfusd', 'enjusd', 'ensusd', 'eosusd', 'epxusd', 'ernusd', 'etcusd', 'ethusd', 'eurusd', 'farmusd', 'fdusdusd', 'fetusd', 'fidausd', 'filusd', 'fiousd', 'fisusd', 'flmusd', 'flokiusd', 'flowusd', 'fluxusd', 'forusd', 'forthusd', 'frontusd', 'ftmusd', 'funusd', 'fxsusd', 'galusd', 'galausd', 'gasusd', 'gbpusd', 'ghstusd', 'glmusd', 'glmrusd', 'gmtusd', 'gmxusd', 'gnousd', 'gnsusd', 'grtusd', 'gtcusd', 'hardusd', 'hbarusd', 'hftusd', 'hifiusd', 'highusd', 'hiveusd', 'hookusd', 'hotusd', 'icpusd', 'icxusd', 'idusd', 'idexusd', 'ilvusd', 'imxusd', 'injusd', 'iostusd', 'iotausd', 'iotxusd', 'irisusd', 'jasmyusd', 'joeusd', 'jstusd', 'juvusd', 'kavausd', 'kdausd', 'keyusd', 'klayusd', 'kmdusd', 'kncusd', 'kp3rusd', 'ksmusd', 'laziousd', 'ldousd', 'leverusd', 'linausd', 'linkusd', 'litusd', 'lokausd', 'loomusd', 'lptusd', 'lqtyusd', 'lrcusd', 'lskusd', 'ltcusd', 'ltousd', 'lunausd', 'luncusd', 'magicusd', 'manausd', 'maskusd', 'maticusd', 'mavusd', 'mblusd', 'mboxusd', 'mcusd', 'mdtusd', 'mdxusd', 'minausd', 'mkrusd', 'mlnusd', 'movrusd', 'mtlusd', 'multiusd', 'nearusd', 'neousd', 'nexousd', 'nknusd', 'nmrusd', 'nulsusd', 'oaxusd', 'oceanusd', 'ogusd', 'ognusd', 'omusd', 'omgusd', 'oneusd', 'ongusd', 'ontusd', 'ookiusd', 'opusd', 'ornusd', 'osmousd', 'oxtusd', 'paxgusd', 'pendleusd', 'peopleusd', 'pepeusd', 'perlusd', 'perpusd', 'phausd', 'phbusd', 'plausd', 'pntusd', 'polsusd', 'polyxusd', 'pondusd', 'portousd', 'powrusd', 'promusd', 'prosusd', 'psgusd', 'pundixusd', 'pyrusd', 'qiusd', 'qkcusd', 'qntusd', 'qtumusd', 'quickusd', 'radusd', 'rareusd', 'rayusd', 'rdntusd', 'reefusd', 'reiusd', 'renusd', 'requsd', 'rifusd', 'rlcusd', 'rndrusd', 'roseusd', 'rplusd', 'rsrusd', 'runeusd', 'rvnusd', 'sandusd', 'santosusd', 'scusd', 'scrtusd', 'seiusd', 'sfpusd', 'shibusd', 'sklusd', 'slpusd', 'sntusd', 'snxusd', 'solusd', 'spellusd', 'ssvusd', 'steemusd', 'stgusd', 'stmxusd', 'storjusd', 'stptusd', 'straxusd', 'stxusd', 'suiusd', 'sunusd', 'superusd', 'sushiusd', 'sxpusd', 'synusd', 'sysusd', 'tusd', 'tfuelusd', 'thetausd', 'tkousd', 'tlmusd', 'tomousd', 'trbusd', 'troyusd', 'truusd', 'trxusd', 'tusdusd', 'tvkusd', 'twtusd', 'uftusd', 'umausd', 'unfiusd', 'uniusd', 'usdcusd', 'usdpusd', 'ustcusd', 'utkusd', 'vetusd', 'vgxusd', 'vibusd', 'vidtusd', 'viteusd', 'voxelusd', 'vthousd', 'wanusd', 'wavesusd', 'waxpusd', 'wbethusd', 'wbtcusd', 'winusd', 'wingusd', 'wldusd', 'wnxmusd', 'woousd', 'wrxusd', 'wtcusd', 'xecusd', 'xemusd', 'xlmusd', 'xnousd', 'xrpusd', 'xtzusd', 'xvgusd', 'xvsusd', 'yfiusd', 'yggusd', 'zecusd', 'zilusd', 'zrxusd']\n",
      "\n",
      "Nombre de tickers : 349\n"
     ]
    }
   ],
   "source": [
    "# Liste en ordre croissant\n",
    "spot_list = spot[\"Ticker\"].sort_values()\n",
    "\n",
    "# en Minuscule\n",
    "lower_spot_list = [element.lower() for element in spot_list]\n",
    "\n",
    "# Ajout usd\n",
    "ticker_usd = [element + \"usd\" for element in lower_spot_list]\n",
    "\n",
    "print(f\"LISTE TICKERS :\\n{ticker_usd}\")\n",
    "print(f\"\\nNombre de tickers : {len(ticker_usd)}\")"
   ]
  },
  {
   "cell_type": "code",
   "execution_count": 5,
   "id": "eb1504fe",
   "metadata": {
    "scrolled": false
   },
   "outputs": [],
   "source": [
    "# Tickers + prices\n",
    "data_list = []\n",
    "\n",
    "for t in ticker_usd[51:100]:\n",
    "    today = datetime.date.today()\n",
    "    headers = {'Content-Type': 'application/json'}\n",
    "    requestResponse = requests.get(f\"https://api.tiingo.com/tiingo/crypto/prices?tickers={t}&startDate={today}&resampleFreq=1Day&token=bd85eb065e5b5c76d82c98f43f036851c7bbef4d\", headers=headers)\n",
    "\n",
    "    data = requestResponse.json()\n",
    "    for item in data:\n",
    "        ticker = item[\"ticker\"]\n",
    "        price = item[\"priceData\"]\n",
    "        \n",
    "        for entry in price:\n",
    "            close = entry[\"close\"]\n",
    "            data_list.append({'Ticker': ticker, 'Close': close})\n",
    "            \n",
    "# DataFrame à partir de la liste Tickers + prices\n",
    "df = pd.DataFrame(data_list)\n",
    "\n",
    "print(df)"
   ]
  }
 ],
 "metadata": {
  "kernelspec": {
   "display_name": "Python 3 (ipykernel)",
   "language": "python",
   "name": "python3"
  },
  "language_info": {
   "codemirror_mode": {
    "name": "ipython",
    "version": 3
   },
   "file_extension": ".py",
   "mimetype": "text/x-python",
   "name": "python",
   "nbconvert_exporter": "python",
   "pygments_lexer": "ipython3",
   "version": "3.9.12"
  }
 },
 "nbformat": 4,
 "nbformat_minor": 5
}
